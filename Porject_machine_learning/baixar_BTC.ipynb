{
  "cells": [
    {
      "cell_type": "code",
      "execution_count": null,
      "metadata": {},
      "outputs": [
        {
          "name": "stderr",
          "output_type": "stream",
          "text": [
            "  ERROR: Command errored out with exit status 1:\n",
            "   command: 'C:\\ProgramData\\Anaconda3\\python.exe' -u -c 'import sys, setuptools, tokenize; sys.argv[0] = '\"'\"'C:\\\\Users\\\\Srta Katsumi\\\\AppData\\\\Local\\\\Temp\\\\pip-install-wtr_i_wt\\\\fbprophet_1b6e28c675db461b9f56c9c46b3c2513\\\\setup.py'\"'\"'; __file__='\"'\"'C:\\\\Users\\\\Srta Katsumi\\\\AppData\\\\Local\\\\Temp\\\\pip-install-wtr_i_wt\\\\fbprophet_1b6e28c675db461b9f56c9c46b3c2513\\\\setup.py'\"'\"';f=getattr(tokenize, '\"'\"'open'\"'\"', open)(__file__);code=f.read().replace('\"'\"'\\r\\n'\"'\"', '\"'\"'\\n'\"'\"');f.close();exec(compile(code, __file__, '\"'\"'exec'\"'\"'))' bdist_wheel -d 'C:\\Users\\Srta Katsumi\\AppData\\Local\\Temp\\pip-wheel-e7v6vxnk'\n",
            "       cwd: C:\\Users\\Srta Katsumi\\AppData\\Local\\Temp\\pip-install-wtr_i_wt\\fbprophet_1b6e28c675db461b9f56c9c46b3c2513\\\n",
            "  Complete output (10 lines):\n",
            "  running bdist_wheel\n",
            "  running build\n",
            "  running build_py\n",
            "  creating build\n",
            "  creating build\\lib\n",
            "  creating build\\lib\\fbprophet\n",
            "  creating build\\lib\\fbprophet\\stan_model\n",
            "  INFO:pystan:COMPILING THE C++ CODE FOR MODEL anon_model_f5236004a3fd5b8429270d00efcc0cf9 NOW.\n",
            "  WARNING:pystan:MSVC compiler is not supported\n",
            "  error: Microsoft Visual C++ 14.0 or greater is required. Get it with \"Microsoft C++ Build Tools\": https://visualstudio.microsoft.com/visual-cpp-build-tools/\n",
            "  ----------------------------------------\n",
            "  ERROR: Failed building wheel for fbprophet\n",
            "    ERROR: Command errored out with exit status 1:\n",
            "     command: 'C:\\ProgramData\\Anaconda3\\python.exe' -u -c 'import sys, setuptools, tokenize; sys.argv[0] = '\"'\"'C:\\\\Users\\\\Srta Katsumi\\\\AppData\\\\Local\\\\Temp\\\\pip-install-wtr_i_wt\\\\fbprophet_1b6e28c675db461b9f56c9c46b3c2513\\\\setup.py'\"'\"'; __file__='\"'\"'C:\\\\Users\\\\Srta Katsumi\\\\AppData\\\\Local\\\\Temp\\\\pip-install-wtr_i_wt\\\\fbprophet_1b6e28c675db461b9f56c9c46b3c2513\\\\setup.py'\"'\"';f=getattr(tokenize, '\"'\"'open'\"'\"', open)(__file__);code=f.read().replace('\"'\"'\\r\\n'\"'\"', '\"'\"'\\n'\"'\"');f.close();exec(compile(code, __file__, '\"'\"'exec'\"'\"'))' install --record 'C:\\Users\\Srta Katsumi\\AppData\\Local\\Temp\\pip-record-e5whmprd\\install-record.txt' --single-version-externally-managed --compile --install-headers 'C:\\ProgramData\\Anaconda3\\Include\\fbprophet'\n",
            "         cwd: C:\\Users\\Srta Katsumi\\AppData\\Local\\Temp\\pip-install-wtr_i_wt\\fbprophet_1b6e28c675db461b9f56c9c46b3c2513\\\n",
            "    Complete output (10 lines):\n",
            "    running install\n",
            "    running build\n",
            "    running build_py\n",
            "    creating build\n",
            "    creating build\\lib\n",
            "    creating build\\lib\\fbprophet\n",
            "    creating build\\lib\\fbprophet\\stan_model\n",
            "    INFO:pystan:COMPILING THE C++ CODE FOR MODEL anon_model_f5236004a3fd5b8429270d00efcc0cf9 NOW.\n",
            "    WARNING:pystan:MSVC compiler is not supported\n",
            "    error: Microsoft Visual C++ 14.0 or greater is required. Get it with \"Microsoft C++ Build Tools\": https://visualstudio.microsoft.com/visual-cpp-build-tools/\n",
            "    ----------------------------------------\n",
            "ERROR: Command errored out with exit status 1: 'C:\\ProgramData\\Anaconda3\\python.exe' -u -c 'import sys, setuptools, tokenize; sys.argv[0] = '\"'\"'C:\\\\Users\\\\Srta Katsumi\\\\AppData\\\\Local\\\\Temp\\\\pip-install-wtr_i_wt\\\\fbprophet_1b6e28c675db461b9f56c9c46b3c2513\\\\setup.py'\"'\"'; __file__='\"'\"'C:\\\\Users\\\\Srta Katsumi\\\\AppData\\\\Local\\\\Temp\\\\pip-install-wtr_i_wt\\\\fbprophet_1b6e28c675db461b9f56c9c46b3c2513\\\\setup.py'\"'\"';f=getattr(tokenize, '\"'\"'open'\"'\"', open)(__file__);code=f.read().replace('\"'\"'\\r\\n'\"'\"', '\"'\"'\\n'\"'\"');f.close();exec(compile(code, __file__, '\"'\"'exec'\"'\"'))' install --record 'C:\\Users\\Srta Katsumi\\AppData\\Local\\Temp\\pip-record-e5whmprd\\install-record.txt' --single-version-externally-managed --compile --install-headers 'C:\\ProgramData\\Anaconda3\\Include\\fbprophet' Check the logs for full command output.\n"
          ]
        },
        {
          "name": "stdout",
          "output_type": "stream",
          "text": [
            "Collecting fbprophet\n",
            "  Using cached fbprophet-0.7.1.tar.gz (64 kB)\n",
            "Requirement already satisfied: Cython>=0.22 in c:\\programdata\\anaconda3\\lib\\site-packages (from fbprophet) (0.29.23)\n",
            "Requirement already satisfied: cmdstanpy==0.9.5 in c:\\programdata\\anaconda3\\lib\\site-packages (from fbprophet) (0.9.5)\n",
            "Requirement already satisfied: pystan>=2.14 in c:\\programdata\\anaconda3\\lib\\site-packages (from fbprophet) (2.19.1.1)\n",
            "Requirement already satisfied: numpy>=1.15.4 in c:\\programdata\\anaconda3\\lib\\site-packages (from fbprophet) (1.20.1)\n",
            "Requirement already satisfied: pandas>=1.0.4 in c:\\programdata\\anaconda3\\lib\\site-packages (from fbprophet) (1.2.4)\n",
            "Requirement already satisfied: matplotlib>=2.0.0 in c:\\programdata\\anaconda3\\lib\\site-packages (from fbprophet) (3.3.4)\n",
            "Requirement already satisfied: LunarCalendar>=0.0.9 in c:\\programdata\\anaconda3\\lib\\site-packages (from fbprophet) (0.0.9)\n",
            "Requirement already satisfied: convertdate>=2.1.2 in c:\\programdata\\anaconda3\\lib\\site-packages (from fbprophet) (2.4.0)\n",
            "Requirement already satisfied: holidays>=0.10.2 in c:\\programdata\\anaconda3\\lib\\site-packages (from fbprophet) (0.13)\n",
            "Requirement already satisfied: setuptools-git>=1.2 in c:\\programdata\\anaconda3\\lib\\site-packages (from fbprophet) (1.2)\n",
            "Requirement already satisfied: python-dateutil>=2.8.0 in c:\\programdata\\anaconda3\\lib\\site-packages (from fbprophet) (2.8.1)\n",
            "Requirement already satisfied: tqdm>=4.36.1 in c:\\programdata\\anaconda3\\lib\\site-packages (from fbprophet) (4.59.0)\n",
            "Requirement already satisfied: pymeeus<=1,>=0.3.13 in c:\\programdata\\anaconda3\\lib\\site-packages (from convertdate>=2.1.2->fbprophet) (0.5.11)\n",
            "Requirement already satisfied: hijri-converter in c:\\programdata\\anaconda3\\lib\\site-packages (from holidays>=0.10.2->fbprophet) (2.2.3)\n",
            "Requirement already satisfied: korean-lunar-calendar in c:\\programdata\\anaconda3\\lib\\site-packages (from holidays>=0.10.2->fbprophet) (0.2.1)\n",
            "Requirement already satisfied: ephem>=3.7.5.3 in c:\\programdata\\anaconda3\\lib\\site-packages (from LunarCalendar>=0.0.9->fbprophet) (4.1.3)\n",
            "Requirement already satisfied: pytz in c:\\programdata\\anaconda3\\lib\\site-packages (from LunarCalendar>=0.0.9->fbprophet) (2021.1)\n",
            "Requirement already satisfied: pyparsing!=2.0.4,!=2.1.2,!=2.1.6,>=2.0.3 in c:\\programdata\\anaconda3\\lib\\site-packages (from matplotlib>=2.0.0->fbprophet) (2.4.7)\n",
            "Requirement already satisfied: kiwisolver>=1.0.1 in c:\\programdata\\anaconda3\\lib\\site-packages (from matplotlib>=2.0.0->fbprophet) (1.3.1)\n",
            "Requirement already satisfied: cycler>=0.10 in c:\\programdata\\anaconda3\\lib\\site-packages (from matplotlib>=2.0.0->fbprophet) (0.10.0)\n",
            "Requirement already satisfied: pillow>=6.2.0 in c:\\programdata\\anaconda3\\lib\\site-packages (from matplotlib>=2.0.0->fbprophet) (8.2.0)\n",
            "Requirement already satisfied: six in c:\\programdata\\anaconda3\\lib\\site-packages (from cycler>=0.10->matplotlib>=2.0.0->fbprophet) (1.15.0)\n",
            "Building wheels for collected packages: fbprophet\n",
            "  Building wheel for fbprophet (setup.py): started\n",
            "  Building wheel for fbprophet (setup.py): finished with status 'error'\n",
            "  Running setup.py clean for fbprophet\n",
            "Failed to build fbprophet\n",
            "Installing collected packages: fbprophet\n",
            "    Running setup.py install for fbprophet: started\n",
            "    Running setup.py install for fbprophet: finished with status 'error'\n",
            "Requirement already satisfied: localpip in c:\\programdata\\anaconda3\\lib\\site-packages (1.0.7)\n",
            "Requirement already satisfied: bs4 in c:\\programdata\\anaconda3\\lib\\site-packages (from localpip) (0.0.1)\n",
            "Requirement already satisfied: pypac in c:\\programdata\\anaconda3\\lib\\site-packages (from localpip) (0.16.0)\n",
            "Requirement already satisfied: requests in c:\\programdata\\anaconda3\\lib\\site-packages (from localpip) (2.25.1)\n",
            "Requirement already satisfied: beautifulsoup4 in c:\\programdata\\anaconda3\\lib\\site-packages (from bs4->localpip) (4.9.3)\n",
            "Requirement already satisfied: soupsieve>1.2 in c:\\programdata\\anaconda3\\lib\\site-packages (from beautifulsoup4->bs4->localpip) (2.2.1)\n",
            "Requirement already satisfied: dukpy>=0.2.2 in c:\\programdata\\anaconda3\\lib\\site-packages (from pypac->localpip) (0.2.3)\n",
            "Requirement already satisfied: tldextract>=2.2.3 in c:\\programdata\\anaconda3\\lib\\site-packages (from pypac->localpip) (3.2.1)\n",
            "Requirement already satisfied: idna<3,>=2.5 in c:\\programdata\\anaconda3\\lib\\site-packages (from requests->localpip) (2.10)\n",
            "Requirement already satisfied: urllib3<1.27,>=1.21.1 in c:\\programdata\\anaconda3\\lib\\site-packages (from requests->localpip) (1.26.4)\n",
            "Requirement already satisfied: chardet<5,>=3.0.2 in c:\\programdata\\anaconda3\\lib\\site-packages (from requests->localpip) (4.0.0)\n",
            "Requirement already satisfied: certifi>=2017.4.17 in c:\\programdata\\anaconda3\\lib\\site-packages (from requests->localpip) (2020.12.5)\n",
            "Requirement already satisfied: filelock>=3.0.8 in c:\\programdata\\anaconda3\\lib\\site-packages (from tldextract>=2.2.3->pypac->localpip) (3.0.12)\n",
            "Requirement already satisfied: requests-file>=1.4 in c:\\programdata\\anaconda3\\lib\\site-packages (from tldextract>=2.2.3->pypac->localpip) (1.5.1)\n",
            "Requirement already satisfied: six in c:\\programdata\\anaconda3\\lib\\site-packages (from requests-file>=1.4->tldextract>=2.2.3->pypac->localpip) (1.15.0)\n"
          ]
        }
      ],
      "source": [
        "!pip install localpip "
      ]
    },
    {
      "cell_type": "code",
      "execution_count": null,
      "metadata": {},
      "outputs": [
        {
          "name": "stdout",
          "output_type": "stream",
          "text": [
            "Requirement already satisfied: plotly in c:\\programdata\\anaconda3\\lib\\site-packages (5.7.0)\n",
            "Requirement already satisfied: tenacity>=6.2.0 in c:\\programdata\\anaconda3\\lib\\site-packages (from plotly) (8.0.1)\n",
            "Requirement already satisfied: six in c:\\programdata\\anaconda3\\lib\\site-packages (from plotly) (1.15.0)\n"
          ]
        }
      ],
      "source": [
        "!pip install --upgrade plotly"
      ]
    },
    {
      "cell_type": "code",
      "execution_count": null,
      "metadata": {},
      "outputs": [
        {
          "name": "stdout",
          "output_type": "stream",
          "text": [
            "Collecting fbprophet\n",
            "  Using cached fbprophet-0.7.1.tar.gz (64 kB)\n",
            "Requirement already satisfied: Cython>=0.22 in c:\\programdata\\anaconda3\\lib\\site-packages (from fbprophet) (0.29.23)\n",
            "Requirement already satisfied: cmdstanpy==0.9.5 in c:\\programdata\\anaconda3\\lib\\site-packages (from fbprophet) (0.9.5)\n",
            "Requirement already satisfied: pystan>=2.14 in c:\\programdata\\anaconda3\\lib\\site-packages (from fbprophet) (2.19.1.1)\n",
            "Requirement already satisfied: numpy>=1.15.4 in c:\\programdata\\anaconda3\\lib\\site-packages (from fbprophet) (1.20.1)\n",
            "Requirement already satisfied: pandas>=1.0.4 in c:\\programdata\\anaconda3\\lib\\site-packages (from fbprophet) (1.2.4)\n"
          ]
        },
        {
          "name": "stderr",
          "output_type": "stream",
          "text": [
            "  ERROR: Command errored out with exit status 1:\n",
            "   command: 'C:\\ProgramData\\Anaconda3\\python.exe' -u -c 'import sys, setuptools, tokenize; sys.argv[0] = '\"'\"'C:\\\\Users\\\\Srta Katsumi\\\\AppData\\\\Local\\\\Temp\\\\pip-install-gi75rncl\\\\fbprophet_2489f56b1244497fbfe6a8c41f36f510\\\\setup.py'\"'\"'; __file__='\"'\"'C:\\\\Users\\\\Srta Katsumi\\\\AppData\\\\Local\\\\Temp\\\\pip-install-gi75rncl\\\\fbprophet_2489f56b1244497fbfe6a8c41f36f510\\\\setup.py'\"'\"';f=getattr(tokenize, '\"'\"'open'\"'\"', open)(__file__);code=f.read().replace('\"'\"'\\r\\n'\"'\"', '\"'\"'\\n'\"'\"');f.close();exec(compile(code, __file__, '\"'\"'exec'\"'\"'))' bdist_wheel -d 'C:\\Users\\Srta Katsumi\\AppData\\Local\\Temp\\pip-wheel-jbkddy_9'\n",
            "       cwd: C:\\Users\\Srta Katsumi\\AppData\\Local\\Temp\\pip-install-gi75rncl\\fbprophet_2489f56b1244497fbfe6a8c41f36f510\\\n",
            "  Complete output (10 lines):\n",
            "  running bdist_wheel\n",
            "  running build\n",
            "  running build_py\n",
            "  creating build\n",
            "  creating build\\lib\n",
            "  creating build\\lib\\fbprophet\n",
            "  creating build\\lib\\fbprophet\\stan_model\n",
            "  INFO:pystan:COMPILING THE C++ CODE FOR MODEL anon_model_f5236004a3fd5b8429270d00efcc0cf9 NOW.\n",
            "  WARNING:pystan:MSVC compiler is not supported\n",
            "  error: Microsoft Visual C++ 14.0 or greater is required. Get it with \"Microsoft C++ Build Tools\": https://visualstudio.microsoft.com/visual-cpp-build-tools/\n",
            "  ----------------------------------------\n",
            "  ERROR: Failed building wheel for fbprophet\n",
            "    ERROR: Command errored out with exit status 1:\n",
            "     command: 'C:\\ProgramData\\Anaconda3\\python.exe' -u -c 'import sys, setuptools, tokenize; sys.argv[0] = '\"'\"'C:\\\\Users\\\\Srta Katsumi\\\\AppData\\\\Local\\\\Temp\\\\pip-install-gi75rncl\\\\fbprophet_2489f56b1244497fbfe6a8c41f36f510\\\\setup.py'\"'\"'; __file__='\"'\"'C:\\\\Users\\\\Srta Katsumi\\\\AppData\\\\Local\\\\Temp\\\\pip-install-gi75rncl\\\\fbprophet_2489f56b1244497fbfe6a8c41f36f510\\\\setup.py'\"'\"';f=getattr(tokenize, '\"'\"'open'\"'\"', open)(__file__);code=f.read().replace('\"'\"'\\r\\n'\"'\"', '\"'\"'\\n'\"'\"');f.close();exec(compile(code, __file__, '\"'\"'exec'\"'\"'))' install --record 'C:\\Users\\Srta Katsumi\\AppData\\Local\\Temp\\pip-record-duaidb8w\\install-record.txt' --single-version-externally-managed --compile --install-headers 'C:\\ProgramData\\Anaconda3\\Include\\fbprophet'\n",
            "         cwd: C:\\Users\\Srta Katsumi\\AppData\\Local\\Temp\\pip-install-gi75rncl\\fbprophet_2489f56b1244497fbfe6a8c41f36f510\\\n",
            "    Complete output (10 lines):\n",
            "    running install\n",
            "    running build\n",
            "    running build_py\n",
            "    creating build\n",
            "    creating build\\lib\n",
            "    creating build\\lib\\fbprophet\n",
            "    creating build\\lib\\fbprophet\\stan_model\n",
            "    INFO:pystan:COMPILING THE C++ CODE FOR MODEL anon_model_f5236004a3fd5b8429270d00efcc0cf9 NOW.\n",
            "    WARNING:pystan:MSVC compiler is not supported\n",
            "    error: Microsoft Visual C++ 14.0 or greater is required. Get it with \"Microsoft C++ Build Tools\": https://visualstudio.microsoft.com/visual-cpp-build-tools/\n",
            "    ----------------------------------------\n",
            "ERROR: Command errored out with exit status 1: 'C:\\ProgramData\\Anaconda3\\python.exe' -u -c 'import sys, setuptools, tokenize; sys.argv[0] = '\"'\"'C:\\\\Users\\\\Srta Katsumi\\\\AppData\\\\Local\\\\Temp\\\\pip-install-gi75rncl\\\\fbprophet_2489f56b1244497fbfe6a8c41f36f510\\\\setup.py'\"'\"'; __file__='\"'\"'C:\\\\Users\\\\Srta Katsumi\\\\AppData\\\\Local\\\\Temp\\\\pip-install-gi75rncl\\\\fbprophet_2489f56b1244497fbfe6a8c41f36f510\\\\setup.py'\"'\"';f=getattr(tokenize, '\"'\"'open'\"'\"', open)(__file__);code=f.read().replace('\"'\"'\\r\\n'\"'\"', '\"'\"'\\n'\"'\"');f.close();exec(compile(code, __file__, '\"'\"'exec'\"'\"'))' install --record 'C:\\Users\\Srta Katsumi\\AppData\\Local\\Temp\\pip-record-duaidb8w\\install-record.txt' --single-version-externally-managed --compile --install-headers 'C:\\ProgramData\\Anaconda3\\Include\\fbprophet' Check the logs for full command output.\n"
          ]
        },
        {
          "name": "stdout",
          "output_type": "stream",
          "text": [
            "Requirement already satisfied: matplotlib>=2.0.0 in c:\\programdata\\anaconda3\\lib\\site-packages (from fbprophet) (3.3.4)\n",
            "Requirement already satisfied: LunarCalendar>=0.0.9 in c:\\programdata\\anaconda3\\lib\\site-packages (from fbprophet) (0.0.9)\n",
            "Requirement already satisfied: convertdate>=2.1.2 in c:\\programdata\\anaconda3\\lib\\site-packages (from fbprophet) (2.4.0)\n",
            "Requirement already satisfied: holidays>=0.10.2 in c:\\programdata\\anaconda3\\lib\\site-packages (from fbprophet) (0.13)\n",
            "Requirement already satisfied: setuptools-git>=1.2 in c:\\programdata\\anaconda3\\lib\\site-packages (from fbprophet) (1.2)\n",
            "Requirement already satisfied: python-dateutil>=2.8.0 in c:\\programdata\\anaconda3\\lib\\site-packages (from fbprophet) (2.8.1)\n",
            "Requirement already satisfied: tqdm>=4.36.1 in c:\\programdata\\anaconda3\\lib\\site-packages (from fbprophet) (4.59.0)\n",
            "Requirement already satisfied: pymeeus<=1,>=0.3.13 in c:\\programdata\\anaconda3\\lib\\site-packages (from convertdate>=2.1.2->fbprophet) (0.5.11)\n",
            "Requirement already satisfied: korean-lunar-calendar in c:\\programdata\\anaconda3\\lib\\site-packages (from holidays>=0.10.2->fbprophet) (0.2.1)\n",
            "Requirement already satisfied: hijri-converter in c:\\programdata\\anaconda3\\lib\\site-packages (from holidays>=0.10.2->fbprophet) (2.2.3)\n",
            "Requirement already satisfied: ephem>=3.7.5.3 in c:\\programdata\\anaconda3\\lib\\site-packages (from LunarCalendar>=0.0.9->fbprophet) (4.1.3)\n",
            "Requirement already satisfied: pytz in c:\\programdata\\anaconda3\\lib\\site-packages (from LunarCalendar>=0.0.9->fbprophet) (2021.1)\n",
            "Requirement already satisfied: kiwisolver>=1.0.1 in c:\\programdata\\anaconda3\\lib\\site-packages (from matplotlib>=2.0.0->fbprophet) (1.3.1)\n",
            "Requirement already satisfied: pyparsing!=2.0.4,!=2.1.2,!=2.1.6,>=2.0.3 in c:\\programdata\\anaconda3\\lib\\site-packages (from matplotlib>=2.0.0->fbprophet) (2.4.7)\n",
            "Requirement already satisfied: cycler>=0.10 in c:\\programdata\\anaconda3\\lib\\site-packages (from matplotlib>=2.0.0->fbprophet) (0.10.0)\n",
            "Requirement already satisfied: pillow>=6.2.0 in c:\\programdata\\anaconda3\\lib\\site-packages (from matplotlib>=2.0.0->fbprophet) (8.2.0)\n",
            "Requirement already satisfied: six in c:\\programdata\\anaconda3\\lib\\site-packages (from cycler>=0.10->matplotlib>=2.0.0->fbprophet) (1.15.0)\n",
            "Building wheels for collected packages: fbprophet\n",
            "  Building wheel for fbprophet (setup.py): started\n",
            "  Building wheel for fbprophet (setup.py): finished with status 'error'\n",
            "  Running setup.py clean for fbprophet\n",
            "Failed to build fbprophet\n",
            "Installing collected packages: fbprophet\n",
            "    Running setup.py install for fbprophet: started\n",
            "    Running setup.py install for fbprophet: finished with status 'error'\n"
          ]
        }
      ],
      "source": [
        "!pip install --upgrade fbprophet"
      ]
    },
    {
      "cell_type": "code",
      "execution_count": 17,
      "metadata": {},
      "outputs": [
        {
          "name": "stdout",
          "output_type": "stream",
          "text": [
            "^C\n"
          ]
        }
      ],
      "source": [
        "!localpip install fbprophet"
      ]
    },
    {
      "cell_type": "code",
      "execution_count": 18,
      "metadata": {},
      "outputs": [
        {
          "name": "stdout",
          "output_type": "stream",
          "text": [
            "^C\n",
            "\n",
            "Note: you may need to restart the kernel to use updated packages.\n"
          ]
        }
      ],
      "source": [
        "conda create --name firstEnv"
      ]
    },
    {
      "cell_type": "code",
      "execution_count": null,
      "metadata": {},
      "outputs": [],
      "source": [
        "conda install -c conda-forge tensorflow\n",
        "conda install -c anaconda ipykernel\n",
        "python -m ipykernel install --user --name=firstEnv\n",
        "!pip install fbprophet"
      ]
    },
    {
      "cell_type": "code",
      "execution_count": null,
      "metadata": {
        "trusted": true
      },
      "outputs": [
        {
          "name": "stdout",
          "output_type": "stream",
          "text": [
            "^C\n"
          ]
        },
        {
          "ename": "ModuleNotFoundError",
          "evalue": "No module named 'fbprophet'",
          "output_type": "error",
          "traceback": [
            "\u001b[1;31m---------------------------------------------------------------------------\u001b[0m",
            "\u001b[1;31mModuleNotFoundError\u001b[0m                       Traceback (most recent call last)",
            "\u001b[1;32m<ipython-input-13-e8bee29cec23>\u001b[0m in \u001b[0;36m<module>\u001b[1;34m\u001b[0m\n\u001b[0;32m      1\u001b[0m \u001b[0mget_ipython\u001b[0m\u001b[1;33m(\u001b[0m\u001b[1;33m)\u001b[0m\u001b[1;33m.\u001b[0m\u001b[0msystem\u001b[0m\u001b[1;33m(\u001b[0m\u001b[1;34m'pip install fbprophet'\u001b[0m\u001b[1;33m)\u001b[0m\u001b[1;33m\u001b[0m\u001b[1;33m\u001b[0m\u001b[0m\n\u001b[0;32m      2\u001b[0m \u001b[1;32mimport\u001b[0m \u001b[0mpandas\u001b[0m \u001b[1;32mas\u001b[0m \u001b[0mpd\u001b[0m\u001b[1;33m\u001b[0m\u001b[1;33m\u001b[0m\u001b[0m\n\u001b[1;32m----> 3\u001b[1;33m \u001b[1;32mfrom\u001b[0m \u001b[0mfbprophet\u001b[0m \u001b[1;32mimport\u001b[0m \u001b[0mProphet\u001b[0m\u001b[1;33m\u001b[0m\u001b[1;33m\u001b[0m\u001b[0m\n\u001b[0m\u001b[0;32m      4\u001b[0m \u001b[1;32mfrom\u001b[0m \u001b[0mfbprophet\u001b[0m\u001b[1;33m.\u001b[0m\u001b[0mplot\u001b[0m \u001b[1;32mimport\u001b[0m \u001b[0mplot\u001b[0m\u001b[1;33m\u001b[0m\u001b[1;33m\u001b[0m\u001b[0m\n",
            "\u001b[1;31mModuleNotFoundError\u001b[0m: No module named 'fbprophet'"
          ]
        }
      ],
      "source": [
        "import pandas as pd\n",
        "from fbprophet import Prophet\n",
        "from fbprophet.plot import plot"
      ]
    },
    {
      "cell_type": "code",
      "execution_count": null,
      "metadata": {
        "trusted": true
      },
      "outputs": [],
      "source": [
        "df = pd.read_csv('BTC-USD.csv')\n",
        "df = df[[\"Date\", \"Close\"]]\n",
        "df.columns = [\"ds\", \"y\"]\n",
        "print(df)"
      ]
    },
    {
      "cell_type": "code",
      "execution_count": null,
      "metadata": {},
      "outputs": [],
      "source": [
        "prophet = Prophet()\n",
        "prophet.fit(df)"
      ]
    },
    {
      "cell_type": "code",
      "execution_count": null,
      "metadata": {},
      "outputs": [],
      "source": [
        "future = prophet.make_future_dataframe(periods=365)\n",
        "print(future)"
      ]
    },
    {
      "cell_type": "code",
      "execution_count": null,
      "metadata": {},
      "outputs": [],
      "source": [
        "forecast = prophet.predict(future)\n",
        "forecast[[\"ds\", \"yhat\", \"yhat_lower\", \"yhat_upper\"]].tail(200)"
      ]
    },
    {
      "cell_type": "code",
      "execution_count": null,
      "metadata": {},
      "outputs": [],
      "source": [
        "prophet.plot(forecast, figsize=(20, 10))"
      ]
    }
  ],
  "metadata": {
    "interpreter": {
      "hash": "b3ba2566441a7c06988d0923437866b63cedc61552a5af99d1f4fb67d367b25f"
    },
    "kernelspec": {
      "display_name": "Pyolite",
      "language": "python",
      "name": "python3"
    },
    "language_info": {
      "codemirror_mode": {
        "name": "ipython",
        "version": 3
      },
      "file_extension": ".py",
      "mimetype": "text/x-python",
      "name": "python",
      "nbconvert_exporter": "python",
      "pygments_lexer": "ipython3",
      "version": "3.8.8"
    }
  },
  "nbformat": 4,
  "nbformat_minor": 4
}
